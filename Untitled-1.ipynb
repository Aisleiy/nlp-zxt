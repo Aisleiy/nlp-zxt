{
 "cells": [
  {
   "cell_type": "code",
   "execution_count": 2,
   "id": "25e9537c",
   "metadata": {},
   "outputs": [],
   "source": [
    "import os\n",
    "import jieba\n",
    "import chardet\n",
    "from tqdm import tqdm\n",
    "import torch\n",
    "import torch.nn as nn\n",
    "import torch.nn.functional as F\n",
    "import random\n",
    "import re\n",
    "import time\n",
    "import numpy as np\n",
    "import matplotlib.pyplot as plt\n",
    "from sklearn.manifold import TSNE\n",
    "\n",
    "###########################\n",
    "# 1. 数据预处理（公共部分）\n",
    "###########################\n",
    "\n",
    "def read_text(path):\n",
    "    \"\"\"\n",
    "    用于 Word2Vec 模型：读取文件、自动检测编码、清洗文本，\n",
    "    按中文句号分句，并对每个句子进行分词，返回分词后句子的列表。\n",
    "    \"\"\"\n",
    "    abs_path = os.path.abspath(path)\n",
    "    with open(abs_path, \"rb\") as raw_file:\n",
    "        raw_data = raw_file.read()\n",
    "    detected = chardet.detect(raw_data)\n",
    "    encoding = detected.get(\"encoding\", \"utf-8\")\n",
    "    confidence = detected.get(\"confidence\", 0)\n",
    "    if encoding is None or confidence < 0.7:\n",
    "        encoding = 'gb18030'\n",
    "    try:\n",
    "        with open(abs_path, \"r\", encoding=encoding) as file:\n",
    "            file_content = file.read()\n",
    "    except UnicodeDecodeError:\n",
    "        with open(abs_path, \"r\", encoding='gb18030') as file:\n",
    "            file_content = file.read()\n",
    "    \n",
    "    # 去除无关广告及乱码\n",
    "    file_content = file_content.replace(\"本书来自www.cr173.com免费txt小说下载站\", '')\n",
    "    file_content = file_content.replace(\"更多更新免费电子书请关注www.cr173.com\", '')\n",
    "    file_content = file_content.replace(\"----〖新语丝电子文库(www.xys.org)〗\", '')\n",
    "    file_content = file_content.replace(\"\\t\", '')\n",
    "    file_content = file_content.replace(\" \", '')\n",
    "    file_content = file_content.replace('\\u3000', '')\n",
    "    file_content = file_content.replace('」', '”')\n",
    "    file_content = file_content.replace('「', '“')\n",
    "    file_content = file_content.replace('□', '')\n",
    "    file_content = file_content.replace('』', '’')\n",
    "    file_content = file_content.replace('『', '‘')\n",
    "    \n",
    "    # 按句号分句，再对每个句子分词\n",
    "    sentences = file_content.split(\"。\")\n",
    "    tokenized_sentences = []\n",
    "    for sent in sentences:\n",
    "        sent = sent.strip()\n",
    "        if sent:\n",
    "            tokens = list(jieba.cut(sent))\n",
    "            tokenized_sentences.append(tokens)\n",
    "    print(f\"文件 {os.path.basename(path)} 分句后句数：\", len(tokenized_sentences))\n",
    "    return tokenized_sentences\n",
    "\n",
    "def read_text_for_lstm(path):\n",
    "    \"\"\"\n",
    "    用于 LSTM 模型：同样自动检测文件编码及清洗文本，\n",
    "    但这里不按句分割，而是返回连续的分词结果，用于构建连续训练序列。\n",
    "    \"\"\"\n",
    "    abs_path = os.path.abspath(path)\n",
    "    with open(abs_path, \"rb\") as raw_file:\n",
    "        raw_data = raw_file.read()\n",
    "    detected = chardet.detect(raw_data)\n",
    "    encoding = detected.get(\"encoding\", \"utf-8\")\n",
    "    confidence = detected.get(\"confidence\", 0)\n",
    "    if encoding is None or confidence < 0.7:\n",
    "        encoding = 'gb18030'\n",
    "    try:\n",
    "        with open(abs_path, \"r\", encoding=encoding) as file:\n",
    "            file_content = file.read()\n",
    "    except UnicodeDecodeError:\n",
    "        with open(abs_path, \"r\", encoding='gb18030') as file:\n",
    "            file_content = file.read()\n",
    "    \n",
    "    file_content = file_content.replace(\"本书来自www.cr173.com免费txt小说下载站\", '')\n",
    "    file_content = file_content.replace(\"更多更新免费电子书请关注www.cr173.com\", '')\n",
    "    file_content = file_content.replace(\"----〖新语丝电子文库(www.xys.org)〗\", '')\n",
    "    file_content = file_content.replace(\"\\n\", '')\n",
    "    file_content = file_content.replace(\"\\t\", '')\n",
    "    file_content = file_content.replace(\" \", '')\n",
    "    file_content = file_content.replace('\\u3000', '')\n",
    "    file_content = file_content.replace('」', '”')\n",
    "    file_content = file_content.replace('「', '“')\n",
    "    file_content = file_content.replace('□', '')\n",
    "    file_content = file_content.replace('』', '’')\n",
    "    file_content = file_content.replace('『', '‘')\n",
    "    \n",
    "    tokens = list(jieba.cut(file_content))\n",
    "    print(\"经过预处理后文章总词数：\", len(tokens))\n",
    "    return tokens\n",
    "\n",
    "# 定义小说列表及数据所在目录（请确认文件名与小说名称一致）\n",
    "novels = [\"倚天屠龙记\", \"天龙八部\", \"射雕英雄传\", \"神雕侠侣\", \"笑傲江湖\"]\n",
    "data_dir = \"./jyxstxtqj_downcc.com/\""
   ]
  },
  {
   "cell_type": "code",
   "execution_count": 3,
   "id": "7546588a",
   "metadata": {},
   "outputs": [
    {
     "name": "stderr",
     "output_type": "stream",
     "text": [
      "Building prefix dict from the default dictionary ...\n",
      "Loading model from cache /var/folders/qt/q3cd3b7j0w3238k0qw9k66540000gn/T/jieba.cache\n",
      "Loading model cost 0.195 seconds.\n",
      "Prefix dict has been built successfully.\n"
     ]
    },
    {
     "name": "stdout",
     "output_type": "stream",
     "text": [
      "文件 倚天屠龙记.txt 分句后句数： 22396\n",
      "文件 天龙八部.txt 分句后句数： 27260\n",
      "文件 射雕英雄传.txt 分句后句数： 21951\n",
      "文件 神雕侠侣.txt 分句后句数： 21625\n",
      "文件 笑傲江湖.txt 分句后句数： 22544\n"
     ]
    }
   ],
   "source": [
    "# 定义小说列表及数据所在目录（请确认文件名与小说名称一致）\n",
    "novels = [\"倚天屠龙记\", \"天龙八部\", \"射雕英雄传\", \"神雕侠侣\", \"笑傲江湖\"]\n",
    "data_dir = \"./jyxstxtqj_downcc.com/\"\n",
    "\n",
    "######################################################\n",
    "# 2. 模型1：Word2Vec —— 用于词向量语义距离和聚类分析\n",
    "######################################################\n",
    "from gensim.models import Word2Vec\n",
    "\n",
    "all_sentences = []\n",
    "for novel in novels:\n",
    "    path = os.path.join(data_dir, novel + \".txt\")\n",
    "    tokenized_sentences = read_text(path)\n",
    "    all_sentences.extend(tokenized_sentences)\n",
    "\n"
   ]
  },
  {
   "cell_type": "code",
   "execution_count": 18,
   "id": "8875b899",
   "metadata": {},
   "outputs": [
    {
     "name": "stdout",
     "output_type": "stream",
     "text": [
      "Word2Vec 模型训练完成！\n"
     ]
    }
   ],
   "source": [
    "# 训练 Word2Vec 模型，参数可根据需要调整（vector_size：词向量维数；window：上下文窗口；min_count：过滤低频词）\n",
    "from gensim.models import Word2Vec\n",
    "w2v_model = Word2Vec(sentences=all_sentences, vector_size=100, window=5, min_count=5, sg=1,workers=4)\n",
    "print(\"Word2Vec 模型训练完成！\")\n"
   ]
  },
  {
   "cell_type": "code",
   "execution_count": 18,
   "id": "f56647da",
   "metadata": {},
   "outputs": [
    {
     "name": "stdout",
     "output_type": "stream",
     "text": [
      "示例（词向量加减）：杨过 + 黄蓉 − 郭靖 得到词： 小龙女  (相似度：0.8200)\n"
     ]
    }
   ],
   "source": [
    "# -------------------------------\n",
    "# 任务1.1：词向量加减运算示例\n",
    "# 例如：“杨过 + 黄蓉 − 郭靖”希望得到的结果接近“小龙女”等\n",
    "try:\n",
    "    result = w2v_model.wv.most_similar(positive=[\"杨过\", \"黄蓉\"], negative=[\"郭靖\"], topn=1)\n",
    "    print(\"示例（词向量加减）：杨过 + 黄蓉 − 郭靖 得到词：\", result[0][0], \" (相似度：{:.4f})\".format(result[0][1]))\n",
    "except Exception as e:\n",
    "    print(\"Word2Vec 词向量加减运算错误：\", e)"
   ]
  },
  {
   "cell_type": "code",
   "execution_count": 24,
   "id": "cc6491a9",
   "metadata": {},
   "outputs": [
    {
     "name": "stdout",
     "output_type": "stream",
     "text": [
      "类比关系：郭靖之于黄蓉 对应 杨过之于： 陆无双  (相似度：0.7418)\n"
     ]
    }
   ],
   "source": [
    "# -------------------------------\n",
    "# 任务1.3：类比对应关系\n",
    "# 如“郭靖之于黄蓉”对应“杨过之于？”的问题，其实可以利用上面词向量加减运算解决：\n",
    "try:\n",
    "    analogy_result = w2v_model.wv.most_similar(positive=[\"杨过\", \"黄蓉\"], negative=[\"郭靖\"], topn=1)\n",
    "    print(\"类比关系：郭靖之于黄蓉 对应 杨过之于：\", analogy_result[0][0], \" (相似度：{:.4f})\".format(analogy_result[0][1]))\n",
    "except Exception as e:\n",
    "    print(\"Word2Vec 类比运算异常：\", e)"
   ]
  },
  {
   "cell_type": "code",
   "execution_count": 30,
   "id": "b32de3ae",
   "metadata": {},
   "outputs": [
    {
     "name": "stdout",
     "output_type": "stream",
     "text": [
      "基于词向量相似度，段誉相关武功排名：\n",
      "  降龙十八掌 : 0.2376\n",
      "  打狗棒法 : 0.2549\n",
      "  九阴真经 : 0.3043\n",
      "  一阳指 : 0.3790\n",
      "  独孤九剑 : 0.3158\n",
      "\n",
      "最终排序：\n",
      "  一阳指 : 0.3790\n",
      "  独孤九剑 : 0.3158\n",
      "  九阴真经 : 0.3043\n",
      "  打狗棒法 : 0.2549\n",
      "  降龙十八掌 : 0.2376\n"
     ]
    }
   ],
   "source": [
    "# -------------------------------\n",
    "# 任务1.4：人物与特定武功的相似度分析（以段誉为例）\n",
    "\n",
    "martial_arts = [\"降龙十八掌\", \"打狗棒法\", \"九阴真经\", \"一阳指\",\"独孤九剑\"]\n",
    "\n",
    "# 基于词向量相似度计算\n",
    "sim_scores = {}\n",
    "print(\"基于词向量相似度，段誉相关武功排名：\")\n",
    "for ma in martial_arts:\n",
    "    try:\n",
    "        sim = w2v_model.wv.similarity(\"段誉\", ma)\n",
    "        sim_scores[ma] = sim\n",
    "        print(\"  {} : {:.4f}\".format(ma, sim))\n",
    "    except KeyError:\n",
    "        print(\"武功 '{}' 不在词汇表中。\".format(ma))\n",
    "\n",
    "# 排序并输出最终排名\n",
    "if sim_scores:\n",
    "    sim_sorted = sorted(sim_scores.items(), key=lambda x: x[1], reverse=True)\n",
    "    print(\"\\n最终排序：\")\n",
    "    for ma, sim in sim_sorted:\n",
    "        print(\"  {} : {:.4f}\".format(ma, sim))\n",
    "else:\n",
    "    print(\"\\n未找到任何有效的武功与 '段誉' 的词向量相似度。\")"
   ]
  },
  {
   "cell_type": "code",
   "execution_count": 27,
   "id": "bbacbe3d",
   "metadata": {},
   "outputs": [
    {
     "name": "stdout",
     "output_type": "stream",
     "text": [
      "与 '张无忌' 关系最接近的十个人物：\n",
      "  赵敏 : 0.6929\n",
      "  周芷若 : 0.6928\n",
      "  段誉 : 0.6892\n",
      "  令狐冲 : 0.6819\n",
      "  小昭 : 0.5976\n",
      "  殷离 : 0.5209\n",
      "  杨过 : 0.4025\n",
      "  小龙女 : 0.3827\n",
      "  黄蓉 : 0.3728\n",
      "  郭靖 : 0.3638\n"
     ]
    }
   ],
   "source": [
    "# 任务2：人物亲近关系分析\n",
    "characters = [\"张无忌\", \"赵敏\", \"周芷若\", \"小昭\", \"殷离\", \"郭靖\", \"黄蓉\", \"杨过\", \"小龙女\", \"段誉\", \"令狐冲\", \"任盈盈\"]\n",
    "if \"张无忌\" in w2v_model.wv:\n",
    "    target_sim = {}\n",
    "    for word in characters:\n",
    "        # 排除自己\n",
    "        if word != \"张无忌\" and word in w2v_model.wv:\n",
    "            sim = w2v_model.wv.similarity(\"张无忌\", word)\n",
    "            target_sim[word] = sim\n",
    "    # 按相似度降序排序\n",
    "    sorted_sim = sorted(target_sim.items(), key=lambda x: x[1], reverse=True)\n",
    "    print(\"与 '张无忌' 关系最接近的十个人物：\")\n",
    "    for word, sim_score in sorted_sim[:10]:\n",
    "        print(\"  {} : {:.4f}\".format(word, sim_score))\n",
    "else:\n",
    "    print(\"词 '张无忌' 未出现在 Word2Vec 模型中。\")\n"
   ]
  },
  {
   "cell_type": "code",
   "execution_count": 32,
   "id": "fe4cdfac",
   "metadata": {},
   "outputs": [
    {
     "name": "stdout",
     "output_type": "stream",
     "text": [
      "与 '降龙十八掌' 相似度最高的武功：\n",
      "  空明拳 : 0.8732\n",
      "  打狗棒法 : 0.8667\n",
      "  拳法 : 0.8656\n",
      "  落英 : 0.8642\n",
      "  掌法 : 0.8625\n",
      "  太极拳 : 0.8568\n",
      "  绝招 : 0.8533\n",
      "  新学 : 0.8525\n",
      "  罗汉拳 : 0.8426\n",
      "  神剑掌 : 0.8405\n"
     ]
    }
   ],
   "source": [
    "# (2) 武功关系分析：寻找与“降龙十八掌”最相似的武功\n",
    "martial_list = [\"降龙十八掌\", \"一阳指\", \"六脉神剑\", \"北冥神功\", \"凌波微步\", \"左右互搏\", \"打狗棒法\", \"辟邪剑法\"]\n",
    "if \"降龙十八掌\" in w2v_model.wv:\n",
    "    similar_martial = w2v_model.wv.most_similar(\"降龙十八掌\", topn=10)\n",
    "    print(\"与 '降龙十八掌' 相似度最高的武功：\")\n",
    "    for word, score in similar_martial:\n",
    "        print(\"  {} : {:.4f}\".format(word, score))\n",
    "else:\n",
    "    print(\"词 '降龙十八掌' 未出现在 Word2Vec 模型中。\")\n"
   ]
  },
  {
   "cell_type": "code",
   "execution_count": 16,
   "id": "55919c04",
   "metadata": {},
   "outputs": [
    {
     "name": "stdout",
     "output_type": "stream",
     "text": [
      "与 '峨嵋派' 相似度最高的十个门派：\n",
      "  华山派 : 0.9326\n",
      "  青城派 : 0.9012\n",
      "  本派 : 0.8959\n",
      "  武当派 : 0.8731\n",
      "  正派 : 0.8573\n",
      "  贵派 : 0.8391\n",
      "  派众 : 0.7871\n",
      "  古墓派 : 0.7580\n",
      "  五派 : 0.7579\n",
      "  逍遥派 : 0.7480\n"
     ]
    }
   ],
   "source": [
    "\n",
    "# (3) 门派关系分析：寻找与“峨嵋派”最相似的门派（选取包含“派”的词）\n",
    "factions = [word for word in w2v_model.wv.key_to_index if \"派\" in word]\n",
    "if \"峨嵋派\" in w2v_model.wv:\n",
    "    faction_sim = {}\n",
    "    for faction in factions:\n",
    "        if faction == \"峨嵋派\":\n",
    "            continue\n",
    "        try:\n",
    "            faction_sim[faction] = w2v_model.wv.similarity(\"峨嵋派\", faction)\n",
    "        except:\n",
    "            continue\n",
    "    faction_sim_sorted = sorted(faction_sim.items(), key=lambda x: x[1], reverse=True)\n",
    "    print(\"与 '峨嵋派' 相似度最高的十个门派：\")\n",
    "    for faction, score in faction_sim_sorted[:10]:\n",
    "        print(\"  {} : {:.4f}\".format(faction, score))\n",
    "else:\n",
    "    print(\"词 '峨嵋派' 未出现在 Word2Vec 模型中。\")\n"
   ]
  },
  {
   "cell_type": "code",
   "execution_count": null,
   "id": "6623cdde",
   "metadata": {},
   "outputs": [
    {
     "name": "stdout",
     "output_type": "stream",
     "text": [
      "K-Means 聚类结果：\n",
      "  郭靖 -> Cluster 0\n",
      "  黄蓉 -> Cluster 0\n",
      "  杨过 -> Cluster 0\n",
      "  小龙女 -> Cluster 0\n",
      "  张无忌 -> Cluster 0\n",
      "  赵敏 -> Cluster 0\n",
      "  降龙十八掌 -> Cluster 1\n",
      "  打狗棒法 -> Cluster 1\n",
      "  九阴真经 -> Cluster 1\n",
      "  少林 -> Cluster 2\n",
      "  武当 -> Cluster 2\n",
      "  明教 -> Cluster 2\n",
      "  丐帮 -> Cluster 2\n"
     ]
    },
    {
     "name": "stderr",
     "output_type": "stream",
     "text": [
      "/Users/zhangxintong/miniconda3/envs/py3.8/lib/python3.8/site-packages/sklearn/cluster/_kmeans.py:1416: FutureWarning: The default value of `n_init` will change from 10 to 'auto' in 1.4. Set the value of `n_init` explicitly to suppress the warning\n",
      "  super()._check_params_vs_input(X, default_n_init=10)\n"
     ]
    },
    {
     "data": {
      "image/png": "[encoded data removed]",
      "text/plain": [
       "<Figure size 1000x600 with 1 Axes>"
      ]
     },
     "metadata": {},
     "output_type": "display_data"
    }
   ],
   "source": [
    "import numpy as np\n",
    "import matplotlib.pyplot as plt\n",
    "from gensim.models import Word2Vec\n",
    "from gensim.matutils import cossim\n",
    "from sklearn.cluster import KMeans\n",
    "from sklearn.decomposition import PCA\n",
    "from sklearn.manifold import TSNE\n",
    "import matplotlib.font_manager as fm\n",
    "from pypinyin import lazy_pinyin  # 用于转换为拼音\n",
    "\n",
    "\n",
    "\n",
    "# 任务2.4：利用 K-Means 聚类分析目标词\n",
    "target_words = ['郭靖', '黄蓉', '杨过', '小龙女', '张无忌', '赵敏',\n",
    "                '降龙十八掌', '打狗棒法', '九阴真经', '乾坤大挪移',\n",
    "                '少林', '武当', '明教', '丐帮']\n",
    "\n",
    "# 过滤出存在于模型词汇表中的词\n",
    "valid_words = [word for word in target_words if word in w2v_model.wv]\n",
    "vectors = [w2v_model.wv[word] for word in valid_words]\n",
    "\n",
    "# 利用 pypinyin 将中文词转换为英文拼音表示\n",
    "# 例如: '郭靖' -> 'guojing'\n",
    "pinyin_words = [''.join(lazy_pinyin(word)) for word in valid_words]\n",
    "\n",
    "from sklearn.cluster import KMeans\n",
    "# 使用 K-Means 将这些词分为 3 类（可根据需要调整聚类数量）\n",
    "kmeans = KMeans(n_clusters=3, random_state=42)\n",
    "clusters = kmeans.fit_predict(vectors)\n",
    "print(\"K-Means 聚类结果：\")\n",
    "for word, cluster in zip(valid_words, clusters):\n",
    "    print(f\"  {word} -> Cluster {cluster}\")\n",
    "\n",
    "# 使用 PCA 将这些词的向量降到二维，并进行可视化\n",
    "from sklearn.decomposition import PCA\n",
    "pca = PCA(n_components=2)\n",
    "points = pca.fit_transform(vectors)\n",
    "\n",
    "plt.figure(figsize=(10, 6))\n",
    "for i, pinyin_word in enumerate(pinyin_words):\n",
    "    x, y = points[i, 0], points[i, 1]\n",
    "    plt.scatter(x, y, c=f\"C{clusters[i]}\", s=100)\n",
    "    plt.text(x + 0.02, y + 0.02, pinyin_word, fontsize=10)\n",
    "plt.title(\"Cluster results (PCA visualization)\")\n",
    "plt.xlabel(\"Principal Component 1\")\n",
    "plt.ylabel(\"Principal Component 2\")\n",
    "plt.show()"
   ]
  }
 ],
 "metadata": {
  "kernelspec": {
   "display_name": "py3.8",
   "language": "python",
   "name": "python3"
  },
  "language_info": {
   "codemirror_mode": {
    "name": "ipython",
    "version": 3
   },
   "file_extension": ".py",
   "mimetype": "text/x-python",
   "name": "python",
   "nbconvert_exporter": "python",
   "pygments_lexer": "ipython3",
   "version": "3.8.19"
  }
 },
 "nbformat": 4,
 "nbformat_minor": 5
}
